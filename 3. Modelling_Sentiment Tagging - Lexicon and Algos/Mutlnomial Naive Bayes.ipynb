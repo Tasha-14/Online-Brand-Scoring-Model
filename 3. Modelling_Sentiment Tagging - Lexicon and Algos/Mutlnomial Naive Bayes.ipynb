{
 "cells": [
  {
   "cell_type": "code",
   "execution_count": 1,
   "metadata": {},
   "outputs": [
    {
     "name": "stdout",
     "output_type": "stream",
     "text": [
      "3.7.6\n"
     ]
    }
   ],
   "source": [
    "import pandas as pd\n",
    "import numpy as np\n",
    "#!pip install --upgrade scikit-learn\n",
    "from platform import python_version\n",
    "print(python_version())\n",
    "#pip install -U imbalanced-learn\n",
    "import imblearn"
   ]
  },
  {
   "cell_type": "code",
   "execution_count": 2,
   "metadata": {},
   "outputs": [],
   "source": [
    "df= pd.read_excel('Dimension_Assigned_Data.xlsx')\n",
    "df = df.rename(columns={'Manual_Polarity':'Label'})"
   ]
  },
  {
   "cell_type": "code",
   "execution_count": 3,
   "metadata": {},
   "outputs": [],
   "source": [
    "df['Label']=np.where(df['Label']==999,0,df['Label'])"
   ]
  },
  {
   "cell_type": "code",
   "execution_count": 4,
   "metadata": {},
   "outputs": [],
   "source": [
    "## Getting the Independent Features\n",
    "X = df.drop(['Label'], axis=1)"
   ]
  },
  {
   "cell_type": "code",
   "execution_count": 5,
   "metadata": {},
   "outputs": [],
   "source": [
    "## Get the Dependent Feature\n",
    "y=df['Label']"
   ]
  },
  {
   "cell_type": "code",
   "execution_count": 6,
   "metadata": {},
   "outputs": [],
   "source": [
    "from sklearn.feature_extraction.text import CountVectorizer, TfidfVectorizer, HashingVectorizer"
   ]
  },
  {
   "cell_type": "code",
   "execution_count": 7,
   "metadata": {},
   "outputs": [],
   "source": [
    "corpus=[]\n",
    "for i in X['Review']:\n",
    "    corpus.append(i)"
   ]
  },
  {
   "cell_type": "code",
   "execution_count": 8,
   "metadata": {},
   "outputs": [],
   "source": [
    "#cv = CountVectorizer(max_features=200,ngram_range=(2,4))\n",
    "#X = cv.fit_transform(corpus).toarray() "
   ]
  },
  {
   "cell_type": "markdown",
   "metadata": {},
   "source": [
    "### TF-IDF"
   ]
  },
  {
   "cell_type": "code",
   "execution_count": 9,
   "metadata": {},
   "outputs": [],
   "source": [
    "from sklearn.feature_extraction.text import TfidfVectorizer\n",
    "tf = TfidfVectorizer()\n",
    "X = tf.fit_transform(corpus).toarray()"
   ]
  },
  {
   "cell_type": "code",
   "execution_count": null,
   "metadata": {},
   "outputs": [],
   "source": []
  },
  {
   "cell_type": "code",
   "execution_count": 10,
   "metadata": {},
   "outputs": [],
   "source": [
    "#corpus1=[]\n",
    "#for i in test['Review']:\n",
    "#    corpus1.append(i)\n",
    "    \n",
    "#test = tf.fit_transform(corpus1).toarray()    "
   ]
  },
  {
   "cell_type": "code",
   "execution_count": null,
   "metadata": {},
   "outputs": [],
   "source": []
  },
  {
   "cell_type": "code",
   "execution_count": 11,
   "metadata": {},
   "outputs": [
    {
     "data": {
      "text/plain": [
       "(685, 2036)"
      ]
     },
     "execution_count": 11,
     "metadata": {},
     "output_type": "execute_result"
    }
   ],
   "source": [
    "X.shape"
   ]
  },
  {
   "cell_type": "code",
   "execution_count": 12,
   "metadata": {},
   "outputs": [],
   "source": [
    "#test.shape"
   ]
  },
  {
   "cell_type": "code",
   "execution_count": 13,
   "metadata": {},
   "outputs": [],
   "source": [
    "## Train Test Split\n",
    "from sklearn.model_selection import train_test_split\n",
    "X_train, X_test, y_train, y_test = train_test_split(X, y, test_size=0.33, random_state=0)"
   ]
  },
  {
   "cell_type": "markdown",
   "metadata": {},
   "source": [
    "### Oversampling"
   ]
  },
  {
   "cell_type": "markdown",
   "metadata": {},
   "source": [
    "### SMOTETomek"
   ]
  },
  {
   "cell_type": "code",
   "execution_count": 14,
   "metadata": {},
   "outputs": [],
   "source": [
    "from imblearn.over_sampling import SMOTE\n",
    "from collections import Counter\n",
    "oversample = SMOTE()\n",
    "X_train1, y_train1 = oversample.fit_resample(X_train, y_train)"
   ]
  },
  {
   "cell_type": "code",
   "execution_count": 15,
   "metadata": {},
   "outputs": [],
   "source": [
    "#count_df = pd.DataFrame(X_train, columns=cv.get_feature_names())"
   ]
  },
  {
   "cell_type": "code",
   "execution_count": 16,
   "metadata": {},
   "outputs": [],
   "source": [
    "#from imblearn.combine import SMOTETomek\n",
    "\n",
    "#smk = SMOTETomek(random_state=42)\n",
    "#X_res,y_res=smk.fit_resample(X_train,y_train)\n",
    "\n",
    "#from collections import Counter\n",
    "#print(\"The number of classes before fit {}\".format(Counter(y_train)))\n",
    "#print(\"The number of classes after fit {}\".format(Counter(y_res)))"
   ]
  },
  {
   "cell_type": "markdown",
   "metadata": {},
   "source": [
    "RandomOverSampler"
   ]
  },
  {
   "cell_type": "code",
   "execution_count": 17,
   "metadata": {},
   "outputs": [],
   "source": [
    "#from imblearn.over_sampling import RandomOverSampler"
   ]
  },
  {
   "cell_type": "code",
   "execution_count": 18,
   "metadata": {},
   "outputs": [],
   "source": [
    "#os = RandomOverSampler(0.75)\n",
    "#X_r,y_r=smk.fit_resample(X_train,y_train)\n",
    "#print(\"The number of classes before fit {}\".format(Counter(y_train)))\n",
    "#print(\"The number of classes after fit {}\".format(Counter(y_r)))"
   ]
  },
  {
   "cell_type": "markdown",
   "metadata": {},
   "source": [
    "### Applying MultinomialNB Algorithm"
   ]
  },
  {
   "cell_type": "code",
   "execution_count": 19,
   "metadata": {},
   "outputs": [],
   "source": [
    "from sklearn.naive_bayes import MultinomialNB\n",
    "classifier=MultinomialNB()"
   ]
  },
  {
   "cell_type": "code",
   "execution_count": 20,
   "metadata": {},
   "outputs": [],
   "source": [
    "from sklearn import metrics\n",
    "import numpy as np\n",
    "import itertools"
   ]
  },
  {
   "cell_type": "code",
   "execution_count": 21,
   "metadata": {},
   "outputs": [
    {
     "data": {
      "text/plain": [
       "0.801762114537445"
      ]
     },
     "execution_count": 21,
     "metadata": {},
     "output_type": "execute_result"
    }
   ],
   "source": [
    "classifier.fit(X_train1, y_train1)\n",
    "pred = classifier.predict(X_test)\n",
    "score = metrics.accuracy_score(y_test, pred)\n",
    "score"
   ]
  },
  {
   "cell_type": "code",
   "execution_count": 22,
   "metadata": {},
   "outputs": [],
   "source": [
    "#test= pd.read_excel('New_Data.xlsx')\n",
    "#test_pred= classifier.predict(test)"
   ]
  },
  {
   "cell_type": "code",
   "execution_count": 23,
   "metadata": {},
   "outputs": [
    {
     "data": {
      "text/plain": [
       "array([ 0,  1,  0,  1,  0,  1,  1,  1,  1,  1, -1, -1,  1,  1, -1,  0,  1,\n",
       "        1,  1,  0,  1,  0,  0,  1,  0,  1, -1,  1,  1,  1,  1,  0,  1,  0,\n",
       "        0, -1,  0,  0,  1, -1,  0,  1,  1,  1,  1,  1,  1, -1,  1, -1, -1,\n",
       "       -1, -1,  1,  1,  0,  1,  1,  0,  1,  1,  1,  0,  1,  1,  1,  1,  0,\n",
       "        1,  1,  1,  1,  1,  1,  1,  0,  1, -1, -1,  1,  1, -1,  0,  0,  1,\n",
       "        0,  1,  1,  0,  1,  1,  1,  1, -1, -1,  0,  1,  1,  0,  1,  1,  0,\n",
       "        1,  0,  1, -1,  0, -1,  1,  1,  1, -1,  1,  0,  1,  1,  1,  0,  1,\n",
       "       -1,  1,  0,  1,  0,  1,  1,  0,  1,  1,  1,  0, -1, -1,  1,  1,  1,\n",
       "        0,  0,  0,  0,  1, -1,  0,  1,  0,  0,  1,  0, -1,  1,  1,  0,  1,\n",
       "        1,  1,  1,  0,  1,  1,  1,  1, -1,  1, -1,  0,  1,  0,  1,  0,  0,\n",
       "        1,  1,  0,  1,  0,  1,  1,  1, -1,  1,  0,  0,  1,  1,  1,  0, -1,\n",
       "        1,  0, -1,  1,  1,  1, -1,  0,  1,  1,  0,  1,  1,  1, -1,  1,  1,\n",
       "        0,  0,  1,  1,  0,  1,  0,  1, -1,  0,  1,  1,  1,  1,  1, -1,  1,\n",
       "        1,  1,  1,  1,  0, -1], dtype=int64)"
      ]
     },
     "execution_count": 23,
     "metadata": {},
     "output_type": "execute_result"
    }
   ],
   "source": [
    "pred"
   ]
  },
  {
   "cell_type": "code",
   "execution_count": 24,
   "metadata": {},
   "outputs": [
    {
     "name": "stdout",
     "output_type": "stream",
     "text": [
      "[[ 23   6   4]\n",
      " [  7  44  12]\n",
      " [  4  12 115]]\n"
     ]
    }
   ],
   "source": [
    "print(metrics.confusion_matrix(y_test,pred))"
   ]
  },
  {
   "cell_type": "code",
   "execution_count": 25,
   "metadata": {},
   "outputs": [
    {
     "name": "stdout",
     "output_type": "stream",
     "text": [
      "              precision    recall  f1-score   support\n",
      "\n",
      "          -1      0.676     0.697     0.687        33\n",
      "           0      0.710     0.698     0.704        63\n",
      "           1      0.878     0.878     0.878       131\n",
      "\n",
      "    accuracy                          0.802       227\n",
      "   macro avg      0.755     0.758     0.756       227\n",
      "weighted avg      0.802     0.802     0.802       227\n",
      "\n",
      "Accuracy: 80.18%\n"
     ]
    }
   ],
   "source": [
    "print(metrics.classification_report(y_test,pred,digits=3))\n",
    "print(\"Accuracy: %.2f%%\" % (score * 100.0))"
   ]
  },
  {
   "cell_type": "code",
   "execution_count": null,
   "metadata": {},
   "outputs": [],
   "source": []
  }
 ],
 "metadata": {
  "kernelspec": {
   "display_name": "Python 3",
   "language": "python",
   "name": "python3"
  },
  "language_info": {
   "codemirror_mode": {
    "name": "ipython",
    "version": 3
   },
   "file_extension": ".py",
   "mimetype": "text/x-python",
   "name": "python",
   "nbconvert_exporter": "python",
   "pygments_lexer": "ipython3",
   "version": "3.7.6"
  }
 },
 "nbformat": 4,
 "nbformat_minor": 4
}
